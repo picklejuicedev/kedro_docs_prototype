{
 "cells": [
  {
   "cell_type": "markdown",
   "id": "b32bba77-3950-4fa0-92e9-4a7557a4b750",
   "metadata": {},
   "source": [
    "## basic EDA analysis using pandas built-in functions"
   ]
  },
  {
   "cell_type": "code",
   "execution_count": 1,
   "id": "f685781e-6b40-4285-a39e-a1f07a563cd7",
   "metadata": {},
   "outputs": [
    {
     "data": {
      "text/html": [
       "<pre style=\"white-space:pre;overflow-x:auto;line-height:normal;font-family:Menlo,'DejaVu Sans Mono',consolas,'Courier New',monospace\"><span style=\"color: #008000; text-decoration-color: #008000\">'C:\\\\code\\\\kedro\\\\docs_prototype\\\\spaceflights'</span>\n",
       "</pre>\n"
      ],
      "text/plain": [
       "\u001b[32m'C:\\\\code\\\\kedro\\\\docs_prototype\\\\spaceflights'\u001b[0m\n"
      ]
     },
     "metadata": {},
     "output_type": "display_data"
    }
   ],
   "source": [
    "# only run once!\n",
    "import os\n",
    "try: hasrun\n",
    "except NameError:\n",
    "    os.chdir(\"../\")\n",
    "    hasrun = True\n",
    "\n",
    "os.getcwd()"
   ]
  },
  {
   "cell_type": "code",
   "execution_count": 2,
   "id": "8207f9d4-6d15-4c45-ad1b-d6663d08e8aa",
   "metadata": {},
   "outputs": [],
   "source": [
    "import mkdocs_gen_files\n",
    "import io\n",
    "import pandas as pd\n",
    "\n",
    "# set floats to 2 decimal points\n",
    "pd.options.display.float_format = '{:,.2f}'.format"
   ]
  },
  {
   "cell_type": "code",
   "execution_count": 56,
   "id": "ab80d5a5-98ab-47d7-8bce-f4fd9882b1b4",
   "metadata": {},
   "outputs": [],
   "source": [
    "# return a md compatible string for each function\n",
    "def get_dfinfo(df: pd.DataFrame) -> str:\n",
    "    doc = \"## Info \\n\\n\"\n",
    "    buffer = io.StringIO()\n",
    "    df.info(buf=buffer)\n",
    "    doc += \"```\\n\" + buffer.getvalue() + \"\\n```\\n\"\n",
    "    return doc\n",
    "\n",
    "def get_head(df: pd.DataFrame) -> str:\n",
    "    doc = \"## Table Head \\n\\n``` \\n\"\n",
    "    doc += df.head().to_string()\n",
    "    doc += \"\\n```\\n\\n\"\n",
    "    return doc\n",
    "\n",
    "def get_tail(df: pd.DataFrame) -> str:\n",
    "    doc = \"## Table Tail \\n\\n``` \\n\"\n",
    "    doc += df.tail().to_string()\n",
    "    doc += \"\\n```\\n\\n\"\n",
    "    return doc\n",
    "\n",
    "def get_info(df: pd.DataFrame) -> str:\n",
    "    doc = \"## Info \\n\"\n",
    "    doc += get_info(df)\n",
    "    doc += \"\\n\\n\"\n",
    "    return doc\n",
    "\n",
    "def get_describe(df: pd.DataFrame) -> str:\n",
    "    doc = \"## Describe \\n\\n```\\n\"\n",
    "    doc += df.describe().to_string()\n",
    "    doc += \"\\n```\\n\\n\"\n",
    "    return doc\n",
    "    \n",
    "def get_nan(df: pd.DataFrame) -> str:\n",
    "    doc = \"## NaN counts \\n\"\n",
    "    doc += \"```\\n\" + df.isna().sum().to_string() + \"\\n```\\n\"\n",
    "    doc += \"\\n\\n\"\n",
    "    return doc\n",
    "    \n",
    "def get_unique(df: pd.DataFrame) -> str:\n",
    "    doc = \"## Unique Values \\n\"\n",
    "    doc += \"```\\n\" + df.nunique().to_string() + \"\\n```\\n\"\n",
    "    doc += \"\\n\\n\"\n",
    "    return doc\n"
   ]
  },
  {
   "cell_type": "code",
   "execution_count": 57,
   "id": "6be7b2ac-ff5a-4966-86f0-03bd43a44685",
   "metadata": {},
   "outputs": [],
   "source": [
    "# concatonate all strings and save to md file\n",
    "def create_basic_data_doc(dataset_name: str):\n",
    "    df = catalog.load(dataset_name)\n",
    "    \n",
    "    doc = f\"# pandas.DataFrame: {dataset_name} \\n\"\n",
    "    doc += get_dfinfo(df)\n",
    "    doc += get_head(df)\n",
    "    doc += get_tail(df)\n",
    "    doc += get_describe(df)\n",
    "    doc += get_nan(df)\n",
    "    doc += get_unique(df)\n",
    "    \n",
    "    filepath = \"data/\" + dataset_name + \".md\"\n",
    "    with mkdocs_gen_files.open(filepath, \"w\") as f:\n",
    "        print(doc, file=f)\n",
    "    "
   ]
  },
  {
   "cell_type": "code",
   "execution_count": 58,
   "id": "73926030-6e87-4cdd-9833-dcdc22a208c5",
   "metadata": {},
   "outputs": [
    {
     "data": {
      "text/html": [
       "<pre style=\"white-space:pre;overflow-x:auto;line-height:normal;font-family:Menlo,'DejaVu Sans Mono',consolas,'Courier New',monospace\"><span style=\"color: #7fbfbf; text-decoration-color: #7fbfbf\">[11/24/22 15:05:25] </span><span style=\"color: #000080; text-decoration-color: #000080\">INFO    </span> Loading data from <span style=\"color: #008000; text-decoration-color: #008000\">'companies'</span> <span style=\"font-weight: bold\">(</span>CSVDataSet<span style=\"font-weight: bold\">)</span><span style=\"color: #808000; text-decoration-color: #808000\">...</span>                      <a href=\"file://C:\\Users\\Sean\\AppData\\Local\\pypoetry\\Cache\\virtualenvs\\docs-prototype-hY2I1EcF-py3.10\\lib\\site-packages\\kedro\\io\\data_catalog.py\" target=\"_blank\"><span style=\"color: #7f7f7f; text-decoration-color: #7f7f7f\">data_catalog.py</span></a><span style=\"color: #7f7f7f; text-decoration-color: #7f7f7f\">:</span><a href=\"file://C:\\Users\\Sean\\AppData\\Local\\pypoetry\\Cache\\virtualenvs\\docs-prototype-hY2I1EcF-py3.10\\lib\\site-packages\\kedro\\io\\data_catalog.py#343\" target=\"_blank\"><span style=\"color: #7f7f7f; text-decoration-color: #7f7f7f\">343</span></a>\n",
       "</pre>\n"
      ],
      "text/plain": [
       "\u001b[2;36m[11/24/22 15:05:25]\u001b[0m\u001b[2;36m \u001b[0m\u001b[34mINFO    \u001b[0m Loading data from \u001b[32m'companies'\u001b[0m \u001b[1m(\u001b[0mCSVDataSet\u001b[1m)\u001b[0m\u001b[33m...\u001b[0m                      \u001b]8;id=885794;file://C:\\Users\\Sean\\AppData\\Local\\pypoetry\\Cache\\virtualenvs\\docs-prototype-hY2I1EcF-py3.10\\lib\\site-packages\\kedro\\io\\data_catalog.py\u001b\\\u001b[2mdata_catalog.py\u001b[0m\u001b]8;;\u001b\\\u001b[2m:\u001b[0m\u001b]8;id=937467;file://C:\\Users\\Sean\\AppData\\Local\\pypoetry\\Cache\\virtualenvs\\docs-prototype-hY2I1EcF-py3.10\\lib\\site-packages\\kedro\\io\\data_catalog.py#343\u001b\\\u001b[2m343\u001b[0m\u001b]8;;\u001b\\\n"
      ]
     },
     "metadata": {},
     "output_type": "display_data"
    }
   ],
   "source": [
    "create_basic_data_doc(\"companies\")"
   ]
  },
  {
   "cell_type": "code",
   "execution_count": 59,
   "id": "5472717b-8081-403f-be21-a7114811816a",
   "metadata": {},
   "outputs": [
    {
     "data": {
      "text/html": [
       "<pre style=\"white-space:pre;overflow-x:auto;line-height:normal;font-family:Menlo,'DejaVu Sans Mono',consolas,'Courier New',monospace\"><span style=\"color: #7fbfbf; text-decoration-color: #7fbfbf\">[11/24/22 15:05:42] </span><span style=\"color: #000080; text-decoration-color: #000080\">INFO    </span> Loading data from <span style=\"color: #008000; text-decoration-color: #008000\">'shuttles'</span> <span style=\"font-weight: bold\">(</span>ExcelDataSet<span style=\"font-weight: bold\">)</span><span style=\"color: #808000; text-decoration-color: #808000\">...</span>                     <a href=\"file://C:\\Users\\Sean\\AppData\\Local\\pypoetry\\Cache\\virtualenvs\\docs-prototype-hY2I1EcF-py3.10\\lib\\site-packages\\kedro\\io\\data_catalog.py\" target=\"_blank\"><span style=\"color: #7f7f7f; text-decoration-color: #7f7f7f\">data_catalog.py</span></a><span style=\"color: #7f7f7f; text-decoration-color: #7f7f7f\">:</span><a href=\"file://C:\\Users\\Sean\\AppData\\Local\\pypoetry\\Cache\\virtualenvs\\docs-prototype-hY2I1EcF-py3.10\\lib\\site-packages\\kedro\\io\\data_catalog.py#343\" target=\"_blank\"><span style=\"color: #7f7f7f; text-decoration-color: #7f7f7f\">343</span></a>\n",
       "</pre>\n"
      ],
      "text/plain": [
       "\u001b[2;36m[11/24/22 15:05:42]\u001b[0m\u001b[2;36m \u001b[0m\u001b[34mINFO    \u001b[0m Loading data from \u001b[32m'shuttles'\u001b[0m \u001b[1m(\u001b[0mExcelDataSet\u001b[1m)\u001b[0m\u001b[33m...\u001b[0m                     \u001b]8;id=994180;file://C:\\Users\\Sean\\AppData\\Local\\pypoetry\\Cache\\virtualenvs\\docs-prototype-hY2I1EcF-py3.10\\lib\\site-packages\\kedro\\io\\data_catalog.py\u001b\\\u001b[2mdata_catalog.py\u001b[0m\u001b]8;;\u001b\\\u001b[2m:\u001b[0m\u001b]8;id=853228;file://C:\\Users\\Sean\\AppData\\Local\\pypoetry\\Cache\\virtualenvs\\docs-prototype-hY2I1EcF-py3.10\\lib\\site-packages\\kedro\\io\\data_catalog.py#343\u001b\\\u001b[2m343\u001b[0m\u001b]8;;\u001b\\\n"
      ]
     },
     "metadata": {},
     "output_type": "display_data"
    }
   ],
   "source": [
    "create_basic_data_doc(\"shuttles\")"
   ]
  },
  {
   "cell_type": "code",
   "execution_count": 60,
   "id": "5f387c19-ab8c-411b-b6f0-e3c8f8e639da",
   "metadata": {},
   "outputs": [
    {
     "data": {
      "text/html": [
       "<pre style=\"white-space:pre;overflow-x:auto;line-height:normal;font-family:Menlo,'DejaVu Sans Mono',consolas,'Courier New',monospace\"><span style=\"color: #7fbfbf; text-decoration-color: #7fbfbf\">[11/24/22 15:05:54] </span><span style=\"color: #000080; text-decoration-color: #000080\">INFO    </span> Loading data from <span style=\"color: #008000; text-decoration-color: #008000\">'reviews'</span> <span style=\"font-weight: bold\">(</span>CSVDataSet<span style=\"font-weight: bold\">)</span><span style=\"color: #808000; text-decoration-color: #808000\">...</span>                        <a href=\"file://C:\\Users\\Sean\\AppData\\Local\\pypoetry\\Cache\\virtualenvs\\docs-prototype-hY2I1EcF-py3.10\\lib\\site-packages\\kedro\\io\\data_catalog.py\" target=\"_blank\"><span style=\"color: #7f7f7f; text-decoration-color: #7f7f7f\">data_catalog.py</span></a><span style=\"color: #7f7f7f; text-decoration-color: #7f7f7f\">:</span><a href=\"file://C:\\Users\\Sean\\AppData\\Local\\pypoetry\\Cache\\virtualenvs\\docs-prototype-hY2I1EcF-py3.10\\lib\\site-packages\\kedro\\io\\data_catalog.py#343\" target=\"_blank\"><span style=\"color: #7f7f7f; text-decoration-color: #7f7f7f\">343</span></a>\n",
       "</pre>\n"
      ],
      "text/plain": [
       "\u001b[2;36m[11/24/22 15:05:54]\u001b[0m\u001b[2;36m \u001b[0m\u001b[34mINFO    \u001b[0m Loading data from \u001b[32m'reviews'\u001b[0m \u001b[1m(\u001b[0mCSVDataSet\u001b[1m)\u001b[0m\u001b[33m...\u001b[0m                        \u001b]8;id=305245;file://C:\\Users\\Sean\\AppData\\Local\\pypoetry\\Cache\\virtualenvs\\docs-prototype-hY2I1EcF-py3.10\\lib\\site-packages\\kedro\\io\\data_catalog.py\u001b\\\u001b[2mdata_catalog.py\u001b[0m\u001b]8;;\u001b\\\u001b[2m:\u001b[0m\u001b]8;id=417985;file://C:\\Users\\Sean\\AppData\\Local\\pypoetry\\Cache\\virtualenvs\\docs-prototype-hY2I1EcF-py3.10\\lib\\site-packages\\kedro\\io\\data_catalog.py#343\u001b\\\u001b[2m343\u001b[0m\u001b]8;;\u001b\\\n"
      ]
     },
     "metadata": {},
     "output_type": "display_data"
    }
   ],
   "source": [
    "create_basic_data_doc(\"reviews\")"
   ]
  },
  {
   "cell_type": "code",
   "execution_count": 61,
   "id": "5114380f-4e32-4e2b-b4a8-c4c97f498789",
   "metadata": {},
   "outputs": [
    {
     "data": {
      "text/html": [
       "<pre style=\"white-space:pre;overflow-x:auto;line-height:normal;font-family:Menlo,'DejaVu Sans Mono',consolas,'Courier New',monospace\"><span style=\"color: #7fbfbf; text-decoration-color: #7fbfbf\">[11/24/22 15:05:55] </span><span style=\"color: #000080; text-decoration-color: #000080\">INFO    </span> Loading data from <span style=\"color: #008000; text-decoration-color: #008000\">'companies'</span> <span style=\"font-weight: bold\">(</span>CSVDataSet<span style=\"font-weight: bold\">)</span><span style=\"color: #808000; text-decoration-color: #808000\">...</span>                      <a href=\"file://C:\\Users\\Sean\\AppData\\Local\\pypoetry\\Cache\\virtualenvs\\docs-prototype-hY2I1EcF-py3.10\\lib\\site-packages\\kedro\\io\\data_catalog.py\" target=\"_blank\"><span style=\"color: #7f7f7f; text-decoration-color: #7f7f7f\">data_catalog.py</span></a><span style=\"color: #7f7f7f; text-decoration-color: #7f7f7f\">:</span><a href=\"file://C:\\Users\\Sean\\AppData\\Local\\pypoetry\\Cache\\virtualenvs\\docs-prototype-hY2I1EcF-py3.10\\lib\\site-packages\\kedro\\io\\data_catalog.py#343\" target=\"_blank\"><span style=\"color: #7f7f7f; text-decoration-color: #7f7f7f\">343</span></a>\n",
       "</pre>\n"
      ],
      "text/plain": [
       "\u001b[2;36m[11/24/22 15:05:55]\u001b[0m\u001b[2;36m \u001b[0m\u001b[34mINFO    \u001b[0m Loading data from \u001b[32m'companies'\u001b[0m \u001b[1m(\u001b[0mCSVDataSet\u001b[1m)\u001b[0m\u001b[33m...\u001b[0m                      \u001b]8;id=252959;file://C:\\Users\\Sean\\AppData\\Local\\pypoetry\\Cache\\virtualenvs\\docs-prototype-hY2I1EcF-py3.10\\lib\\site-packages\\kedro\\io\\data_catalog.py\u001b\\\u001b[2mdata_catalog.py\u001b[0m\u001b]8;;\u001b\\\u001b[2m:\u001b[0m\u001b]8;id=623211;file://C:\\Users\\Sean\\AppData\\Local\\pypoetry\\Cache\\virtualenvs\\docs-prototype-hY2I1EcF-py3.10\\lib\\site-packages\\kedro\\io\\data_catalog.py#343\u001b\\\u001b[2m343\u001b[0m\u001b]8;;\u001b\\\n"
      ]
     },
     "metadata": {},
     "output_type": "display_data"
    }
   ],
   "source": [
    "create_basic_data_doc(\"companies\")"
   ]
  },
  {
   "cell_type": "code",
   "execution_count": 62,
   "id": "221c794a-8e72-43e1-931a-a94acb97482b",
   "metadata": {},
   "outputs": [
    {
     "data": {
      "text/html": [
       "<pre style=\"white-space:pre;overflow-x:auto;line-height:normal;font-family:Menlo,'DejaVu Sans Mono',consolas,'Courier New',monospace\"><span style=\"color: #7fbfbf; text-decoration-color: #7fbfbf\">                    </span><span style=\"color: #000080; text-decoration-color: #000080\">INFO    </span> Loading data from <span style=\"color: #008000; text-decoration-color: #008000\">'model_input_table'</span> <span style=\"font-weight: bold\">(</span>ParquetDataSet<span style=\"font-weight: bold\">)</span><span style=\"color: #808000; text-decoration-color: #808000\">...</span>          <a href=\"file://C:\\Users\\Sean\\AppData\\Local\\pypoetry\\Cache\\virtualenvs\\docs-prototype-hY2I1EcF-py3.10\\lib\\site-packages\\kedro\\io\\data_catalog.py\" target=\"_blank\"><span style=\"color: #7f7f7f; text-decoration-color: #7f7f7f\">data_catalog.py</span></a><span style=\"color: #7f7f7f; text-decoration-color: #7f7f7f\">:</span><a href=\"file://C:\\Users\\Sean\\AppData\\Local\\pypoetry\\Cache\\virtualenvs\\docs-prototype-hY2I1EcF-py3.10\\lib\\site-packages\\kedro\\io\\data_catalog.py#343\" target=\"_blank\"><span style=\"color: #7f7f7f; text-decoration-color: #7f7f7f\">343</span></a>\n",
       "</pre>\n"
      ],
      "text/plain": [
       "\u001b[2;36m                   \u001b[0m\u001b[2;36m \u001b[0m\u001b[34mINFO    \u001b[0m Loading data from \u001b[32m'model_input_table'\u001b[0m \u001b[1m(\u001b[0mParquetDataSet\u001b[1m)\u001b[0m\u001b[33m...\u001b[0m          \u001b]8;id=109594;file://C:\\Users\\Sean\\AppData\\Local\\pypoetry\\Cache\\virtualenvs\\docs-prototype-hY2I1EcF-py3.10\\lib\\site-packages\\kedro\\io\\data_catalog.py\u001b\\\u001b[2mdata_catalog.py\u001b[0m\u001b]8;;\u001b\\\u001b[2m:\u001b[0m\u001b]8;id=590778;file://C:\\Users\\Sean\\AppData\\Local\\pypoetry\\Cache\\virtualenvs\\docs-prototype-hY2I1EcF-py3.10\\lib\\site-packages\\kedro\\io\\data_catalog.py#343\u001b\\\u001b[2m343\u001b[0m\u001b]8;;\u001b\\\n"
      ]
     },
     "metadata": {},
     "output_type": "display_data"
    }
   ],
   "source": [
    "create_basic_data_doc(\"model_input_table\")"
   ]
  }
 ],
 "metadata": {
  "kernelspec": {
   "display_name": "Kedro (spaceflights)",
   "language": "python",
   "name": "kedro_spaceflights"
  },
  "language_info": {
   "codemirror_mode": {
    "name": "ipython",
    "version": 3
   },
   "file_extension": ".py",
   "mimetype": "text/x-python",
   "name": "python",
   "nbconvert_exporter": "python",
   "pygments_lexer": "ipython3",
   "version": "3.10.7"
  }
 },
 "nbformat": 4,
 "nbformat_minor": 5
}
