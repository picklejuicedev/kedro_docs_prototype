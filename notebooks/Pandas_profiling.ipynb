{
 "cells": [
  {
   "cell_type": "markdown",
   "id": "7fe7e8a2-dd9f-45ab-bcd5-ed4a19fa7e79",
   "metadata": {},
   "source": [
    "## create reports based on pandas profiling\n"
   ]
  },
  {
   "cell_type": "code",
   "execution_count": 2,
   "id": "2d112b16-8c01-4cab-b56d-f79d607e61e3",
   "metadata": {
    "collapsed": true,
    "jupyter": {
     "outputs_hidden": true
    },
    "tags": []
   },
   "outputs": [
    {
     "name": "stdout",
     "output_type": "stream",
     "text": [
      "Collecting pandas_profiling\n",
      "  Downloading pandas_profiling-3.5.0-py2.py3-none-any.whl (325 kB)\n",
      "     -------------------------------------- 325.0/325.0 kB 2.9 MB/s eta 0:00:00\n",
      "Collecting seaborn<0.13,>=0.10.1\n",
      "  Using cached seaborn-0.12.1-py3-none-any.whl (288 kB)\n",
      "Requirement already satisfied: numpy<1.24,>=1.16.0 in c:\\users\\sean\\appdata\\local\\pypoetry\\cache\\virtualenvs\\docs-prototype-hy2i1ecf-py3.10\\lib\\site-packages (from pandas_profiling) (1.23.5)\n",
      "Collecting multimethod<1.10,>=1.4\n",
      "  Using cached multimethod-1.9-py3-none-any.whl (10 kB)\n",
      "Collecting phik<0.13,>=0.11.1\n",
      "  Using cached phik-0.12.2-cp310-cp310-win_amd64.whl (703 kB)\n",
      "Collecting matplotlib<3.7,>=3.2\n",
      "  Using cached matplotlib-3.6.2-cp310-cp310-win_amd64.whl (7.2 MB)\n",
      "Requirement already satisfied: pydantic<1.11,>=1.8.1 in c:\\users\\sean\\appdata\\local\\pypoetry\\cache\\virtualenvs\\docs-prototype-hy2i1ecf-py3.10\\lib\\site-packages (from pandas_profiling) (1.10.2)\n",
      "Requirement already satisfied: requests<2.29,>=2.24.0 in c:\\users\\sean\\appdata\\local\\pypoetry\\cache\\virtualenvs\\docs-prototype-hy2i1ecf-py3.10\\lib\\site-packages (from pandas_profiling) (2.28.1)\n",
      "Collecting htmlmin==0.1.12\n",
      "  Using cached htmlmin-0.1.12.tar.gz (19 kB)\n",
      "  Preparing metadata (setup.py): started\n",
      "  Preparing metadata (setup.py): finished with status 'done'\n",
      "Requirement already satisfied: scipy<1.10,>=1.4.1 in c:\\users\\sean\\appdata\\local\\pypoetry\\cache\\virtualenvs\\docs-prototype-hy2i1ecf-py3.10\\lib\\site-packages (from pandas_profiling) (1.9.3)\n",
      "Collecting statsmodels<0.14,>=0.13.2\n",
      "  Using cached statsmodels-0.13.5-cp310-cp310-win_amd64.whl (9.1 MB)\n",
      "Collecting typeguard<2.14,>=2.13.2\n",
      "  Downloading typeguard-2.13.3-py3-none-any.whl (17 kB)\n",
      "Requirement already satisfied: PyYAML<6.1,>=5.0.0 in c:\\users\\sean\\appdata\\local\\pypoetry\\cache\\virtualenvs\\docs-prototype-hy2i1ecf-py3.10\\lib\\site-packages (from pandas_profiling) (6.0)\n",
      "Collecting tqdm<4.65,>=4.48.2\n",
      "  Using cached tqdm-4.64.1-py2.py3-none-any.whl (78 kB)\n",
      "Collecting visions[type_image_path]==0.7.5\n",
      "  Using cached visions-0.7.5-py3-none-any.whl (102 kB)\n",
      "Requirement already satisfied: jinja2<3.2,>=2.11.1 in c:\\users\\sean\\appdata\\local\\pypoetry\\cache\\virtualenvs\\docs-prototype-hy2i1ecf-py3.10\\lib\\site-packages (from pandas_profiling) (3.1.2)\n",
      "Requirement already satisfied: pandas!=1.4.0,<1.6,>1.1 in c:\\users\\sean\\appdata\\local\\pypoetry\\cache\\virtualenvs\\docs-prototype-hy2i1ecf-py3.10\\lib\\site-packages (from pandas_profiling) (1.5.1)\n",
      "Collecting tangled-up-in-unicode>=0.0.4\n",
      "  Using cached tangled_up_in_unicode-0.2.0-py3-none-any.whl (4.7 MB)\n",
      "Requirement already satisfied: attrs>=19.3.0 in c:\\users\\sean\\appdata\\local\\pypoetry\\cache\\virtualenvs\\docs-prototype-hy2i1ecf-py3.10\\lib\\site-packages (from visions[type_image_path]==0.7.5->pandas_profiling) (21.4.0)\n",
      "Requirement already satisfied: networkx>=2.4 in c:\\users\\sean\\appdata\\local\\pypoetry\\cache\\virtualenvs\\docs-prototype-hy2i1ecf-py3.10\\lib\\site-packages (from visions[type_image_path]==0.7.5->pandas_profiling) (2.8.8)\n",
      "Collecting imagehash\n",
      "  Using cached ImageHash-4.3.1-py2.py3-none-any.whl (296 kB)\n",
      "Collecting Pillow\n",
      "  Using cached Pillow-9.3.0-cp310-cp310-win_amd64.whl (2.5 MB)\n",
      "Requirement already satisfied: MarkupSafe>=2.0 in c:\\users\\sean\\appdata\\local\\pypoetry\\cache\\virtualenvs\\docs-prototype-hy2i1ecf-py3.10\\lib\\site-packages (from jinja2<3.2,>=2.11.1->pandas_profiling) (2.1.1)\n",
      "Collecting fonttools>=4.22.0\n",
      "  Using cached fonttools-4.38.0-py3-none-any.whl (965 kB)\n",
      "Requirement already satisfied: python-dateutil>=2.7 in c:\\users\\sean\\appdata\\local\\pypoetry\\cache\\virtualenvs\\docs-prototype-hy2i1ecf-py3.10\\lib\\site-packages (from matplotlib<3.7,>=3.2->pandas_profiling) (2.8.2)\n",
      "Requirement already satisfied: pyparsing>=2.2.1 in c:\\users\\sean\\appdata\\local\\pypoetry\\cache\\virtualenvs\\docs-prototype-hy2i1ecf-py3.10\\lib\\site-packages (from matplotlib<3.7,>=3.2->pandas_profiling) (3.0.9)\n",
      "Collecting contourpy>=1.0.1\n",
      "  Using cached contourpy-1.0.6-cp310-cp310-win_amd64.whl (163 kB)\n",
      "Requirement already satisfied: packaging>=20.0 in c:\\users\\sean\\appdata\\local\\pypoetry\\cache\\virtualenvs\\docs-prototype-hy2i1ecf-py3.10\\lib\\site-packages (from matplotlib<3.7,>=3.2->pandas_profiling) (21.3)\n",
      "Collecting cycler>=0.10\n",
      "  Using cached cycler-0.11.0-py3-none-any.whl (6.4 kB)\n",
      "Collecting kiwisolver>=1.0.1\n",
      "  Using cached kiwisolver-1.4.4-cp310-cp310-win_amd64.whl (55 kB)\n",
      "Requirement already satisfied: pytz>=2020.1 in c:\\users\\sean\\appdata\\local\\pypoetry\\cache\\virtualenvs\\docs-prototype-hy2i1ecf-py3.10\\lib\\site-packages (from pandas!=1.4.0,<1.6,>1.1->pandas_profiling) (2022.6)\n",
      "Requirement already satisfied: joblib>=0.14.1 in c:\\users\\sean\\appdata\\local\\pypoetry\\cache\\virtualenvs\\docs-prototype-hy2i1ecf-py3.10\\lib\\site-packages (from phik<0.13,>=0.11.1->pandas_profiling) (1.2.0)\n",
      "Requirement already satisfied: typing-extensions>=4.1.0 in c:\\users\\sean\\appdata\\local\\pypoetry\\cache\\virtualenvs\\docs-prototype-hy2i1ecf-py3.10\\lib\\site-packages (from pydantic<1.11,>=1.8.1->pandas_profiling) (4.4.0)\n",
      "Requirement already satisfied: certifi>=2017.4.17 in c:\\users\\sean\\appdata\\local\\pypoetry\\cache\\virtualenvs\\docs-prototype-hy2i1ecf-py3.10\\lib\\site-packages (from requests<2.29,>=2.24.0->pandas_profiling) (2022.9.24)\n",
      "Requirement already satisfied: urllib3<1.27,>=1.21.1 in c:\\users\\sean\\appdata\\local\\pypoetry\\cache\\virtualenvs\\docs-prototype-hy2i1ecf-py3.10\\lib\\site-packages (from requests<2.29,>=2.24.0->pandas_profiling) (1.26.12)\n",
      "Requirement already satisfied: idna<4,>=2.5 in c:\\users\\sean\\appdata\\local\\pypoetry\\cache\\virtualenvs\\docs-prototype-hy2i1ecf-py3.10\\lib\\site-packages (from requests<2.29,>=2.24.0->pandas_profiling) (3.4)\n",
      "Requirement already satisfied: charset-normalizer<3,>=2 in c:\\users\\sean\\appdata\\local\\pypoetry\\cache\\virtualenvs\\docs-prototype-hy2i1ecf-py3.10\\lib\\site-packages (from requests<2.29,>=2.24.0->pandas_profiling) (2.1.1)\n",
      "Collecting patsy>=0.5.2\n",
      "  Using cached patsy-0.5.3-py2.py3-none-any.whl (233 kB)\n",
      "Requirement already satisfied: colorama in c:\\users\\sean\\appdata\\local\\pypoetry\\cache\\virtualenvs\\docs-prototype-hy2i1ecf-py3.10\\lib\\site-packages (from tqdm<4.65,>=4.48.2->pandas_profiling) (0.4.6)\n",
      "Requirement already satisfied: six in c:\\users\\sean\\appdata\\local\\pypoetry\\cache\\virtualenvs\\docs-prototype-hy2i1ecf-py3.10\\lib\\site-packages (from patsy>=0.5.2->statsmodels<0.14,>=0.13.2->pandas_profiling) (1.16.0)\n",
      "Collecting PyWavelets\n",
      "  Using cached PyWavelets-1.4.1-cp310-cp310-win_amd64.whl (4.2 MB)\n",
      "Building wheels for collected packages: htmlmin\n",
      "  Building wheel for htmlmin (setup.py): started\n",
      "  Building wheel for htmlmin (setup.py): finished with status 'done'\n",
      "  Created wheel for htmlmin: filename=htmlmin-0.1.12-py3-none-any.whl size=27092 sha256=864d12e395bfb3347d6e1917dd98c33641c9a2fc7ca2ea08e1da362697844c0e\n",
      "  Stored in directory: c:\\users\\sean\\appdata\\local\\pip\\cache\\wheels\\ea\\1c\\a8\\5cec3479cd45136a7111e2d96aac299b219b199c411665250b\n",
      "Successfully built htmlmin\n",
      "Installing collected packages: htmlmin, typeguard, tqdm, tangled-up-in-unicode, PyWavelets, Pillow, patsy, multimethod, kiwisolver, fonttools, cycler, contourpy, matplotlib, imagehash, visions, statsmodels, seaborn, phik, pandas_profiling\n",
      "Successfully installed Pillow-9.3.0 PyWavelets-1.4.1 contourpy-1.0.6 cycler-0.11.0 fonttools-4.38.0 htmlmin-0.1.12 imagehash-4.3.1 kiwisolver-1.4.4 matplotlib-3.6.2 multimethod-1.9 pandas_profiling-3.5.0 patsy-0.5.3 phik-0.12.2 seaborn-0.12.1 statsmodels-0.13.5 tangled-up-in-unicode-0.2.0 tqdm-4.64.1 typeguard-2.13.3 visions-0.7.5\n"
     ]
    }
   ],
   "source": [
    "!pip install pandas_profiling"
   ]
  },
  {
   "cell_type": "code",
   "execution_count": 3,
   "id": "c619d03b-9408-42d5-b34f-17cd7a103ea7",
   "metadata": {},
   "outputs": [],
   "source": [
    "from pandas_profiling import ProfileReport"
   ]
  },
  {
   "cell_type": "code",
   "execution_count": 9,
   "id": "c5b7ad1e-1a90-4aab-9489-0c422020383d",
   "metadata": {},
   "outputs": [],
   "source": [
    "def create_profiling_report(dataset_name: str, basefolder=\"../docs/data/\"):\n",
    "    report = ProfileReport(catalog.load(dataset_name))\n",
    "    file_path = basefolder + \"/\" + dataset_name + \"/\" + dataset_name + \".html\"\n",
    "    report.to_file(file_path)\n",
    "    "
   ]
  },
  {
   "cell_type": "code",
   "execution_count": null,
   "id": "9d40cd7e-1496-4fab-8712-3105b4f8f041",
   "metadata": {},
   "outputs": [],
   "source": []
  },
  {
   "cell_type": "code",
   "execution_count": 14,
   "id": "56746c47-4cd1-42de-a91f-af253afddb20",
   "metadata": {
    "collapsed": true,
    "jupyter": {
     "outputs_hidden": true
    },
    "tags": []
   },
   "outputs": [
    {
     "data": {
      "text/html": [
       "<pre style=\"white-space:pre;overflow-x:auto;line-height:normal;font-family:Menlo,'DejaVu Sans Mono',consolas,'Courier New',monospace\"><span style=\"color: #7fbfbf; text-decoration-color: #7fbfbf\">[11/24/22 10:51:06] </span><span style=\"color: #000080; text-decoration-color: #000080\">INFO    </span> Loading data from <span style=\"color: #008000; text-decoration-color: #008000\">'companies'</span> <span style=\"font-weight: bold\">(</span>CSVDataSet<span style=\"font-weight: bold\">)</span><span style=\"color: #808000; text-decoration-color: #808000\">...</span>                      <a href=\"file://C:\\Users\\Sean\\AppData\\Local\\pypoetry\\Cache\\virtualenvs\\docs-prototype-hY2I1EcF-py3.10\\lib\\site-packages\\kedro\\io\\data_catalog.py\" target=\"_blank\"><span style=\"color: #7f7f7f; text-decoration-color: #7f7f7f\">data_catalog.py</span></a><span style=\"color: #7f7f7f; text-decoration-color: #7f7f7f\">:</span><a href=\"file://C:\\Users\\Sean\\AppData\\Local\\pypoetry\\Cache\\virtualenvs\\docs-prototype-hY2I1EcF-py3.10\\lib\\site-packages\\kedro\\io\\data_catalog.py#343\" target=\"_blank\"><span style=\"color: #7f7f7f; text-decoration-color: #7f7f7f\">343</span></a>\n",
       "</pre>\n"
      ],
      "text/plain": [
       "\u001b[2;36m[11/24/22 10:51:06]\u001b[0m\u001b[2;36m \u001b[0m\u001b[34mINFO    \u001b[0m Loading data from \u001b[32m'companies'\u001b[0m \u001b[1m(\u001b[0mCSVDataSet\u001b[1m)\u001b[0m\u001b[33m...\u001b[0m                      \u001b]8;id=581078;file://C:\\Users\\Sean\\AppData\\Local\\pypoetry\\Cache\\virtualenvs\\docs-prototype-hY2I1EcF-py3.10\\lib\\site-packages\\kedro\\io\\data_catalog.py\u001b\\\u001b[2mdata_catalog.py\u001b[0m\u001b]8;;\u001b\\\u001b[2m:\u001b[0m\u001b]8;id=336330;file://C:\\Users\\Sean\\AppData\\Local\\pypoetry\\Cache\\virtualenvs\\docs-prototype-hY2I1EcF-py3.10\\lib\\site-packages\\kedro\\io\\data_catalog.py#343\u001b\\\u001b[2m343\u001b[0m\u001b]8;;\u001b\\\n"
      ]
     },
     "metadata": {},
     "output_type": "display_data"
    },
    {
     "data": {
      "application/vnd.jupyter.widget-view+json": {
       "model_id": "fd30450dfae54aee9c64a0c77627b563",
       "version_major": 2,
       "version_minor": 0
      },
      "text/plain": [
       "Summarize dataset:   0%|          | 0/5 [00:00<?, ?it/s]"
      ]
     },
     "metadata": {},
     "output_type": "display_data"
    },
    {
     "data": {
      "text/html": [
       "<pre style=\"white-space:pre;overflow-x:auto;line-height:normal;font-family:Menlo,'DejaVu Sans Mono',consolas,'Courier New',monospace\"><span style=\"color: #7fbfbf; text-decoration-color: #7fbfbf\">[11/24/22 10:51:07] </span><span style=\"color: #800000; text-decoration-color: #800000\">WARNING </span> C:\\Users\\Sean\\AppData\\Local\\pypoetry\\Cache\\virtualenvs\\docs-prototype- <a href=\"file://C:\\Users\\Sean\\.pyenv\\pyenv-win\\versions\\3.10.7\\lib\\warnings.py\" target=\"_blank\"><span style=\"color: #7f7f7f; text-decoration-color: #7f7f7f\">warnings.py</span></a><span style=\"color: #7f7f7f; text-decoration-color: #7f7f7f\">:</span><a href=\"file://C:\\Users\\Sean\\.pyenv\\pyenv-win\\versions\\3.10.7\\lib\\warnings.py#109\" target=\"_blank\"><span style=\"color: #7f7f7f; text-decoration-color: #7f7f7f\">109</span></a>\n",
       "<span style=\"color: #7fbfbf; text-decoration-color: #7fbfbf\">                    </span>         hY2I1EcF-py3.<span style=\"color: #008080; text-decoration-color: #008080; font-weight: bold\">10</span>\\lib\\site-packages\\multimethod\\__init__.py:<span style=\"color: #008080; text-decoration-color: #008080; font-weight: bold\">315</span>:         <span style=\"color: #7f7f7f; text-decoration-color: #7f7f7f\">               </span>\n",
       "<span style=\"color: #7fbfbf; text-decoration-color: #7fbfbf\">                    </span>         FutureWarning: The default value of numeric_only in DataFrame.corr is  <span style=\"color: #7f7f7f; text-decoration-color: #7f7f7f\">               </span>\n",
       "<span style=\"color: #7fbfbf; text-decoration-color: #7fbfbf\">                    </span>         deprecated. In a future version, it will default to <span style=\"color: #ff0000; text-decoration-color: #ff0000; font-style: italic\">False</span>. Select only <span style=\"color: #7f7f7f; text-decoration-color: #7f7f7f\">               </span>\n",
       "<span style=\"color: #7fbfbf; text-decoration-color: #7fbfbf\">                    </span>         valid columns or specify the value of numeric_only to silence this     <span style=\"color: #7f7f7f; text-decoration-color: #7f7f7f\">               </span>\n",
       "<span style=\"color: #7fbfbf; text-decoration-color: #7fbfbf\">                    </span>         warning.                                                               <span style=\"color: #7f7f7f; text-decoration-color: #7f7f7f\">               </span>\n",
       "<span style=\"color: #7fbfbf; text-decoration-color: #7fbfbf\">                    </span>           return <span style=\"color: #800080; text-decoration-color: #800080; font-weight: bold\">func</span><span style=\"font-weight: bold\">(</span>*args, **kwargs<span style=\"font-weight: bold\">)</span>                                         <span style=\"color: #7f7f7f; text-decoration-color: #7f7f7f\">               </span>\n",
       "<span style=\"color: #7fbfbf; text-decoration-color: #7fbfbf\">                    </span>                                                                                <span style=\"color: #7f7f7f; text-decoration-color: #7f7f7f\">               </span>\n",
       "</pre>\n"
      ],
      "text/plain": [
       "\u001b[2;36m[11/24/22 10:51:07]\u001b[0m\u001b[2;36m \u001b[0m\u001b[31mWARNING \u001b[0m C:\\Users\\Sean\\AppData\\Local\\pypoetry\\Cache\\virtualenvs\\docs-prototype- \u001b]8;id=429206;file://C:\\Users\\Sean\\.pyenv\\pyenv-win\\versions\\3.10.7\\lib\\warnings.py\u001b\\\u001b[2mwarnings.py\u001b[0m\u001b]8;;\u001b\\\u001b[2m:\u001b[0m\u001b]8;id=328590;file://C:\\Users\\Sean\\.pyenv\\pyenv-win\\versions\\3.10.7\\lib\\warnings.py#109\u001b\\\u001b[2m109\u001b[0m\u001b]8;;\u001b\\\n",
       "\u001b[2;36m                    \u001b[0m         hY2I1EcF-py3.\u001b[1;36m10\u001b[0m\\lib\\site-packages\\multimethod\\__init__.py:\u001b[1;36m315\u001b[0m:         \u001b[2m               \u001b[0m\n",
       "\u001b[2;36m                    \u001b[0m         FutureWarning: The default value of numeric_only in DataFrame.corr is  \u001b[2m               \u001b[0m\n",
       "\u001b[2;36m                    \u001b[0m         deprecated. In a future version, it will default to \u001b[3;91mFalse\u001b[0m. Select only \u001b[2m               \u001b[0m\n",
       "\u001b[2;36m                    \u001b[0m         valid columns or specify the value of numeric_only to silence this     \u001b[2m               \u001b[0m\n",
       "\u001b[2;36m                    \u001b[0m         warning.                                                               \u001b[2m               \u001b[0m\n",
       "\u001b[2;36m                    \u001b[0m           return \u001b[1;35mfunc\u001b[0m\u001b[1m(\u001b[0m*args, **kwargs\u001b[1m)\u001b[0m                                         \u001b[2m               \u001b[0m\n",
       "\u001b[2;36m                    \u001b[0m                                                                                \u001b[2m               \u001b[0m\n"
      ]
     },
     "metadata": {},
     "output_type": "display_data"
    },
    {
     "data": {
      "application/vnd.jupyter.widget-view+json": {
       "model_id": "77425ececc1d4b83baa7279ad97e46bb",
       "version_major": 2,
       "version_minor": 0
      },
      "text/plain": [
       "Generate report structure:   0%|          | 0/1 [00:00<?, ?it/s]"
      ]
     },
     "metadata": {},
     "output_type": "display_data"
    },
    {
     "data": {
      "application/vnd.jupyter.widget-view+json": {
       "model_id": "7c191210119742e28974f4d9a76dcaf3",
       "version_major": 2,
       "version_minor": 0
      },
      "text/plain": [
       "Render HTML:   0%|          | 0/1 [00:00<?, ?it/s]"
      ]
     },
     "metadata": {},
     "output_type": "display_data"
    },
    {
     "data": {
      "application/vnd.jupyter.widget-view+json": {
       "model_id": "5b5a86985f6f4509879ff65012828e4a",
       "version_major": 2,
       "version_minor": 0
      },
      "text/plain": [
       "Export report to file:   0%|          | 0/1 [00:00<?, ?it/s]"
      ]
     },
     "metadata": {},
     "output_type": "display_data"
    }
   ],
   "source": [
    "create_profiling_report(\"companies\")"
   ]
  },
  {
   "cell_type": "code",
   "execution_count": 11,
   "id": "30d7c054-9135-4b8a-b90a-52d8297d16d6",
   "metadata": {
    "collapsed": true,
    "jupyter": {
     "outputs_hidden": true
    },
    "tags": []
   },
   "outputs": [
    {
     "data": {
      "text/html": [
       "<pre style=\"white-space:pre;overflow-x:auto;line-height:normal;font-family:Menlo,'DejaVu Sans Mono',consolas,'Courier New',monospace\"><span style=\"color: #7fbfbf; text-decoration-color: #7fbfbf\">[11/24/22 10:37:39] </span><span style=\"color: #000080; text-decoration-color: #000080\">INFO    </span> Loading data from <span style=\"color: #008000; text-decoration-color: #008000\">'shuttles'</span> <span style=\"font-weight: bold\">(</span>ExcelDataSet<span style=\"font-weight: bold\">)</span><span style=\"color: #808000; text-decoration-color: #808000\">...</span>                     <a href=\"file://C:\\Users\\Sean\\AppData\\Local\\pypoetry\\Cache\\virtualenvs\\docs-prototype-hY2I1EcF-py3.10\\lib\\site-packages\\kedro\\io\\data_catalog.py\" target=\"_blank\"><span style=\"color: #7f7f7f; text-decoration-color: #7f7f7f\">data_catalog.py</span></a><span style=\"color: #7f7f7f; text-decoration-color: #7f7f7f\">:</span><a href=\"file://C:\\Users\\Sean\\AppData\\Local\\pypoetry\\Cache\\virtualenvs\\docs-prototype-hY2I1EcF-py3.10\\lib\\site-packages\\kedro\\io\\data_catalog.py#343\" target=\"_blank\"><span style=\"color: #7f7f7f; text-decoration-color: #7f7f7f\">343</span></a>\n",
       "</pre>\n"
      ],
      "text/plain": [
       "\u001b[2;36m[11/24/22 10:37:39]\u001b[0m\u001b[2;36m \u001b[0m\u001b[34mINFO    \u001b[0m Loading data from \u001b[32m'shuttles'\u001b[0m \u001b[1m(\u001b[0mExcelDataSet\u001b[1m)\u001b[0m\u001b[33m...\u001b[0m                     \u001b]8;id=526762;file://C:\\Users\\Sean\\AppData\\Local\\pypoetry\\Cache\\virtualenvs\\docs-prototype-hY2I1EcF-py3.10\\lib\\site-packages\\kedro\\io\\data_catalog.py\u001b\\\u001b[2mdata_catalog.py\u001b[0m\u001b]8;;\u001b\\\u001b[2m:\u001b[0m\u001b]8;id=218201;file://C:\\Users\\Sean\\AppData\\Local\\pypoetry\\Cache\\virtualenvs\\docs-prototype-hY2I1EcF-py3.10\\lib\\site-packages\\kedro\\io\\data_catalog.py#343\u001b\\\u001b[2m343\u001b[0m\u001b]8;;\u001b\\\n"
      ]
     },
     "metadata": {},
     "output_type": "display_data"
    },
    {
     "data": {
      "application/vnd.jupyter.widget-view+json": {
       "model_id": "17a1f6238d9247f7906c5ee8e839738e",
       "version_major": 2,
       "version_minor": 0
      },
      "text/plain": [
       "Summarize dataset:   0%|          | 0/5 [00:00<?, ?it/s]"
      ]
     },
     "metadata": {},
     "output_type": "display_data"
    },
    {
     "data": {
      "text/html": [
       "<pre style=\"white-space:pre;overflow-x:auto;line-height:normal;font-family:Menlo,'DejaVu Sans Mono',consolas,'Courier New',monospace\"><span style=\"color: #7fbfbf; text-decoration-color: #7fbfbf\">[11/24/22 10:37:53] </span><span style=\"color: #800000; text-decoration-color: #800000\">WARNING </span> C:\\Users\\Sean\\AppData\\Local\\pypoetry\\Cache\\virtualenvs\\docs-prototype- <a href=\"file://C:\\Users\\Sean\\.pyenv\\pyenv-win\\versions\\3.10.7\\lib\\warnings.py\" target=\"_blank\"><span style=\"color: #7f7f7f; text-decoration-color: #7f7f7f\">warnings.py</span></a><span style=\"color: #7f7f7f; text-decoration-color: #7f7f7f\">:</span><a href=\"file://C:\\Users\\Sean\\.pyenv\\pyenv-win\\versions\\3.10.7\\lib\\warnings.py#109\" target=\"_blank\"><span style=\"color: #7f7f7f; text-decoration-color: #7f7f7f\">109</span></a>\n",
       "<span style=\"color: #7fbfbf; text-decoration-color: #7fbfbf\">                    </span>         hY2I1EcF-py3.<span style=\"color: #008080; text-decoration-color: #008080; font-weight: bold\">10</span>\\lib\\site-packages\\multimethod\\__init__.py:<span style=\"color: #008080; text-decoration-color: #008080; font-weight: bold\">315</span>:         <span style=\"color: #7f7f7f; text-decoration-color: #7f7f7f\">               </span>\n",
       "<span style=\"color: #7fbfbf; text-decoration-color: #7fbfbf\">                    </span>         FutureWarning: The default value of numeric_only in DataFrame.corr is  <span style=\"color: #7f7f7f; text-decoration-color: #7f7f7f\">               </span>\n",
       "<span style=\"color: #7fbfbf; text-decoration-color: #7fbfbf\">                    </span>         deprecated. In a future version, it will default to <span style=\"color: #ff0000; text-decoration-color: #ff0000; font-style: italic\">False</span>. Select only <span style=\"color: #7f7f7f; text-decoration-color: #7f7f7f\">               </span>\n",
       "<span style=\"color: #7fbfbf; text-decoration-color: #7fbfbf\">                    </span>         valid columns or specify the value of numeric_only to silence this     <span style=\"color: #7f7f7f; text-decoration-color: #7f7f7f\">               </span>\n",
       "<span style=\"color: #7fbfbf; text-decoration-color: #7fbfbf\">                    </span>         warning.                                                               <span style=\"color: #7f7f7f; text-decoration-color: #7f7f7f\">               </span>\n",
       "<span style=\"color: #7fbfbf; text-decoration-color: #7fbfbf\">                    </span>           return <span style=\"color: #800080; text-decoration-color: #800080; font-weight: bold\">func</span><span style=\"font-weight: bold\">(</span>*args, **kwargs<span style=\"font-weight: bold\">)</span>                                         <span style=\"color: #7f7f7f; text-decoration-color: #7f7f7f\">               </span>\n",
       "<span style=\"color: #7fbfbf; text-decoration-color: #7fbfbf\">                    </span>                                                                                <span style=\"color: #7f7f7f; text-decoration-color: #7f7f7f\">               </span>\n",
       "</pre>\n"
      ],
      "text/plain": [
       "\u001b[2;36m[11/24/22 10:37:53]\u001b[0m\u001b[2;36m \u001b[0m\u001b[31mWARNING \u001b[0m C:\\Users\\Sean\\AppData\\Local\\pypoetry\\Cache\\virtualenvs\\docs-prototype- \u001b]8;id=822948;file://C:\\Users\\Sean\\.pyenv\\pyenv-win\\versions\\3.10.7\\lib\\warnings.py\u001b\\\u001b[2mwarnings.py\u001b[0m\u001b]8;;\u001b\\\u001b[2m:\u001b[0m\u001b]8;id=839915;file://C:\\Users\\Sean\\.pyenv\\pyenv-win\\versions\\3.10.7\\lib\\warnings.py#109\u001b\\\u001b[2m109\u001b[0m\u001b]8;;\u001b\\\n",
       "\u001b[2;36m                    \u001b[0m         hY2I1EcF-py3.\u001b[1;36m10\u001b[0m\\lib\\site-packages\\multimethod\\__init__.py:\u001b[1;36m315\u001b[0m:         \u001b[2m               \u001b[0m\n",
       "\u001b[2;36m                    \u001b[0m         FutureWarning: The default value of numeric_only in DataFrame.corr is  \u001b[2m               \u001b[0m\n",
       "\u001b[2;36m                    \u001b[0m         deprecated. In a future version, it will default to \u001b[3;91mFalse\u001b[0m. Select only \u001b[2m               \u001b[0m\n",
       "\u001b[2;36m                    \u001b[0m         valid columns or specify the value of numeric_only to silence this     \u001b[2m               \u001b[0m\n",
       "\u001b[2;36m                    \u001b[0m         warning.                                                               \u001b[2m               \u001b[0m\n",
       "\u001b[2;36m                    \u001b[0m           return \u001b[1;35mfunc\u001b[0m\u001b[1m(\u001b[0m*args, **kwargs\u001b[1m)\u001b[0m                                         \u001b[2m               \u001b[0m\n",
       "\u001b[2;36m                    \u001b[0m                                                                                \u001b[2m               \u001b[0m\n"
      ]
     },
     "metadata": {},
     "output_type": "display_data"
    },
    {
     "data": {
      "application/vnd.jupyter.widget-view+json": {
       "model_id": "ce53b9ec76a04b469e6db6e0b61cdc72",
       "version_major": 2,
       "version_minor": 0
      },
      "text/plain": [
       "Generate report structure:   0%|          | 0/1 [00:00<?, ?it/s]"
      ]
     },
     "metadata": {},
     "output_type": "display_data"
    },
    {
     "data": {
      "application/vnd.jupyter.widget-view+json": {
       "model_id": "4f5913445d6d4e5483295687e1fcac5e",
       "version_major": 2,
       "version_minor": 0
      },
      "text/plain": [
       "Render HTML:   0%|          | 0/1 [00:00<?, ?it/s]"
      ]
     },
     "metadata": {},
     "output_type": "display_data"
    },
    {
     "data": {
      "application/vnd.jupyter.widget-view+json": {
       "model_id": "563331b99aa64fa3a799a554e2b7410b",
       "version_major": 2,
       "version_minor": 0
      },
      "text/plain": [
       "Export report to file:   0%|          | 0/1 [00:00<?, ?it/s]"
      ]
     },
     "metadata": {},
     "output_type": "display_data"
    }
   ],
   "source": [
    "create_profiling_report(\"shuttles\")"
   ]
  },
  {
   "cell_type": "code",
   "execution_count": 12,
   "id": "e3c224c7-f81a-4115-ae55-3c967424ef1e",
   "metadata": {
    "collapsed": true,
    "jupyter": {
     "outputs_hidden": true
    },
    "tags": []
   },
   "outputs": [
    {
     "data": {
      "text/html": [
       "<pre style=\"white-space:pre;overflow-x:auto;line-height:normal;font-family:Menlo,'DejaVu Sans Mono',consolas,'Courier New',monospace\"><span style=\"color: #7fbfbf; text-decoration-color: #7fbfbf\">[11/24/22 10:38:24] </span><span style=\"color: #000080; text-decoration-color: #000080\">INFO    </span> Loading data from <span style=\"color: #008000; text-decoration-color: #008000\">'reviews'</span> <span style=\"font-weight: bold\">(</span>CSVDataSet<span style=\"font-weight: bold\">)</span><span style=\"color: #808000; text-decoration-color: #808000\">...</span>                        <a href=\"file://C:\\Users\\Sean\\AppData\\Local\\pypoetry\\Cache\\virtualenvs\\docs-prototype-hY2I1EcF-py3.10\\lib\\site-packages\\kedro\\io\\data_catalog.py\" target=\"_blank\"><span style=\"color: #7f7f7f; text-decoration-color: #7f7f7f\">data_catalog.py</span></a><span style=\"color: #7f7f7f; text-decoration-color: #7f7f7f\">:</span><a href=\"file://C:\\Users\\Sean\\AppData\\Local\\pypoetry\\Cache\\virtualenvs\\docs-prototype-hY2I1EcF-py3.10\\lib\\site-packages\\kedro\\io\\data_catalog.py#343\" target=\"_blank\"><span style=\"color: #7f7f7f; text-decoration-color: #7f7f7f\">343</span></a>\n",
       "</pre>\n"
      ],
      "text/plain": [
       "\u001b[2;36m[11/24/22 10:38:24]\u001b[0m\u001b[2;36m \u001b[0m\u001b[34mINFO    \u001b[0m Loading data from \u001b[32m'reviews'\u001b[0m \u001b[1m(\u001b[0mCSVDataSet\u001b[1m)\u001b[0m\u001b[33m...\u001b[0m                        \u001b]8;id=807751;file://C:\\Users\\Sean\\AppData\\Local\\pypoetry\\Cache\\virtualenvs\\docs-prototype-hY2I1EcF-py3.10\\lib\\site-packages\\kedro\\io\\data_catalog.py\u001b\\\u001b[2mdata_catalog.py\u001b[0m\u001b]8;;\u001b\\\u001b[2m:\u001b[0m\u001b]8;id=105584;file://C:\\Users\\Sean\\AppData\\Local\\pypoetry\\Cache\\virtualenvs\\docs-prototype-hY2I1EcF-py3.10\\lib\\site-packages\\kedro\\io\\data_catalog.py#343\u001b\\\u001b[2m343\u001b[0m\u001b]8;;\u001b\\\n"
      ]
     },
     "metadata": {},
     "output_type": "display_data"
    },
    {
     "data": {
      "application/vnd.jupyter.widget-view+json": {
       "model_id": "c102cf74c1f749a28b4ff0975ed8ee57",
       "version_major": 2,
       "version_minor": 0
      },
      "text/plain": [
       "Summarize dataset:   0%|          | 0/5 [00:00<?, ?it/s]"
      ]
     },
     "metadata": {},
     "output_type": "display_data"
    },
    {
     "data": {
      "application/vnd.jupyter.widget-view+json": {
       "model_id": "c29e22448fe04e179e72e98a038e36f6",
       "version_major": 2,
       "version_minor": 0
      },
      "text/plain": [
       "Generate report structure:   0%|          | 0/1 [00:00<?, ?it/s]"
      ]
     },
     "metadata": {},
     "output_type": "display_data"
    },
    {
     "data": {
      "application/vnd.jupyter.widget-view+json": {
       "model_id": "9714f888206443af979032a19d0a88b7",
       "version_major": 2,
       "version_minor": 0
      },
      "text/plain": [
       "Render HTML:   0%|          | 0/1 [00:00<?, ?it/s]"
      ]
     },
     "metadata": {},
     "output_type": "display_data"
    },
    {
     "data": {
      "application/vnd.jupyter.widget-view+json": {
       "model_id": "9f0f286cac044ef79c35eed6cd8167cc",
       "version_major": 2,
       "version_minor": 0
      },
      "text/plain": [
       "Export report to file:   0%|          | 0/1 [00:00<?, ?it/s]"
      ]
     },
     "metadata": {},
     "output_type": "display_data"
    }
   ],
   "source": [
    "create_profiling_report(\"reviews\")"
   ]
  },
  {
   "cell_type": "code",
   "execution_count": 15,
   "id": "e1f88b69-a1dc-4764-b5cb-e6419912f8e1",
   "metadata": {
    "tags": []
   },
   "outputs": [
    {
     "data": {
      "text/html": [
       "<pre style=\"white-space:pre;overflow-x:auto;line-height:normal;font-family:Menlo,'DejaVu Sans Mono',consolas,'Courier New',monospace\"><span style=\"color: #7fbfbf; text-decoration-color: #7fbfbf\">[11/24/22 14:46:49] </span><span style=\"color: #000080; text-decoration-color: #000080\">INFO    </span> Loading data from <span style=\"color: #008000; text-decoration-color: #008000\">'model_input_table'</span> <span style=\"font-weight: bold\">(</span>ParquetDataSet<span style=\"font-weight: bold\">)</span><span style=\"color: #808000; text-decoration-color: #808000\">...</span>          <a href=\"file://C:\\Users\\Sean\\AppData\\Local\\pypoetry\\Cache\\virtualenvs\\docs-prototype-hY2I1EcF-py3.10\\lib\\site-packages\\kedro\\io\\data_catalog.py\" target=\"_blank\"><span style=\"color: #7f7f7f; text-decoration-color: #7f7f7f\">data_catalog.py</span></a><span style=\"color: #7f7f7f; text-decoration-color: #7f7f7f\">:</span><a href=\"file://C:\\Users\\Sean\\AppData\\Local\\pypoetry\\Cache\\virtualenvs\\docs-prototype-hY2I1EcF-py3.10\\lib\\site-packages\\kedro\\io\\data_catalog.py#343\" target=\"_blank\"><span style=\"color: #7f7f7f; text-decoration-color: #7f7f7f\">343</span></a>\n",
       "</pre>\n"
      ],
      "text/plain": [
       "\u001b[2;36m[11/24/22 14:46:49]\u001b[0m\u001b[2;36m \u001b[0m\u001b[34mINFO    \u001b[0m Loading data from \u001b[32m'model_input_table'\u001b[0m \u001b[1m(\u001b[0mParquetDataSet\u001b[1m)\u001b[0m\u001b[33m...\u001b[0m          \u001b]8;id=529530;file://C:\\Users\\Sean\\AppData\\Local\\pypoetry\\Cache\\virtualenvs\\docs-prototype-hY2I1EcF-py3.10\\lib\\site-packages\\kedro\\io\\data_catalog.py\u001b\\\u001b[2mdata_catalog.py\u001b[0m\u001b]8;;\u001b\\\u001b[2m:\u001b[0m\u001b]8;id=894640;file://C:\\Users\\Sean\\AppData\\Local\\pypoetry\\Cache\\virtualenvs\\docs-prototype-hY2I1EcF-py3.10\\lib\\site-packages\\kedro\\io\\data_catalog.py#343\u001b\\\u001b[2m343\u001b[0m\u001b]8;;\u001b\\\n"
      ]
     },
     "metadata": {},
     "output_type": "display_data"
    },
    {
     "data": {
      "application/vnd.jupyter.widget-view+json": {
       "model_id": "c38fa960caa14c92af8ed5e2bebe5205",
       "version_major": 2,
       "version_minor": 0
      },
      "text/plain": [
       "Summarize dataset:   0%|          | 0/5 [00:00<?, ?it/s]"
      ]
     },
     "metadata": {},
     "output_type": "display_data"
    },
    {
     "data": {
      "text/html": [
       "<pre style=\"white-space:pre;overflow-x:auto;line-height:normal;font-family:Menlo,'DejaVu Sans Mono',consolas,'Courier New',monospace\"><span style=\"color: #7fbfbf; text-decoration-color: #7fbfbf\">[11/24/22 14:46:57] </span><span style=\"color: #800000; text-decoration-color: #800000\">WARNING </span> C:\\Users\\Sean\\AppData\\Local\\pypoetry\\Cache\\virtualenvs\\docs-prototype- <a href=\"file://C:\\Users\\Sean\\.pyenv\\pyenv-win\\versions\\3.10.7\\lib\\warnings.py\" target=\"_blank\"><span style=\"color: #7f7f7f; text-decoration-color: #7f7f7f\">warnings.py</span></a><span style=\"color: #7f7f7f; text-decoration-color: #7f7f7f\">:</span><a href=\"file://C:\\Users\\Sean\\.pyenv\\pyenv-win\\versions\\3.10.7\\lib\\warnings.py#109\" target=\"_blank\"><span style=\"color: #7f7f7f; text-decoration-color: #7f7f7f\">109</span></a>\n",
       "<span style=\"color: #7fbfbf; text-decoration-color: #7fbfbf\">                    </span>         hY2I1EcF-py3.<span style=\"color: #008080; text-decoration-color: #008080; font-weight: bold\">10</span>\\lib\\site-packages\\multimethod\\__init__.py:<span style=\"color: #008080; text-decoration-color: #008080; font-weight: bold\">315</span>:         <span style=\"color: #7f7f7f; text-decoration-color: #7f7f7f\">               </span>\n",
       "<span style=\"color: #7fbfbf; text-decoration-color: #7fbfbf\">                    </span>         FutureWarning: In a future version, `df.iloc<span style=\"font-weight: bold\">[</span>:, i<span style=\"font-weight: bold\">]</span> = newvals` will     <span style=\"color: #7f7f7f; text-decoration-color: #7f7f7f\">               </span>\n",
       "<span style=\"color: #7fbfbf; text-decoration-color: #7fbfbf\">                    </span>         attempt to set the values inplace instead of always setting a new      <span style=\"color: #7f7f7f; text-decoration-color: #7f7f7f\">               </span>\n",
       "<span style=\"color: #7fbfbf; text-decoration-color: #7fbfbf\">                    </span>         array. To retain the old behavior, use either `df<span style=\"font-weight: bold\">[</span>df.columns<span style=\"font-weight: bold\">[</span>i<span style=\"font-weight: bold\">]]</span> =     <span style=\"color: #7f7f7f; text-decoration-color: #7f7f7f\">               </span>\n",
       "<span style=\"color: #7fbfbf; text-decoration-color: #7fbfbf\">                    </span>         newvals` or, if columns are non-unique, `<span style=\"color: #800080; text-decoration-color: #800080; font-weight: bold\">df.isetitem</span><span style=\"font-weight: bold\">(</span>i, newvals<span style=\"font-weight: bold\">)</span>`      <span style=\"color: #7f7f7f; text-decoration-color: #7f7f7f\">               </span>\n",
       "<span style=\"color: #7fbfbf; text-decoration-color: #7fbfbf\">                    </span>           return <span style=\"color: #800080; text-decoration-color: #800080; font-weight: bold\">func</span><span style=\"font-weight: bold\">(</span>*args, **kwargs<span style=\"font-weight: bold\">)</span>                                         <span style=\"color: #7f7f7f; text-decoration-color: #7f7f7f\">               </span>\n",
       "<span style=\"color: #7fbfbf; text-decoration-color: #7fbfbf\">                    </span>                                                                                <span style=\"color: #7f7f7f; text-decoration-color: #7f7f7f\">               </span>\n",
       "</pre>\n"
      ],
      "text/plain": [
       "\u001b[2;36m[11/24/22 14:46:57]\u001b[0m\u001b[2;36m \u001b[0m\u001b[31mWARNING \u001b[0m C:\\Users\\Sean\\AppData\\Local\\pypoetry\\Cache\\virtualenvs\\docs-prototype- \u001b]8;id=591981;file://C:\\Users\\Sean\\.pyenv\\pyenv-win\\versions\\3.10.7\\lib\\warnings.py\u001b\\\u001b[2mwarnings.py\u001b[0m\u001b]8;;\u001b\\\u001b[2m:\u001b[0m\u001b]8;id=154155;file://C:\\Users\\Sean\\.pyenv\\pyenv-win\\versions\\3.10.7\\lib\\warnings.py#109\u001b\\\u001b[2m109\u001b[0m\u001b]8;;\u001b\\\n",
       "\u001b[2;36m                    \u001b[0m         hY2I1EcF-py3.\u001b[1;36m10\u001b[0m\\lib\\site-packages\\multimethod\\__init__.py:\u001b[1;36m315\u001b[0m:         \u001b[2m               \u001b[0m\n",
       "\u001b[2;36m                    \u001b[0m         FutureWarning: In a future version, `df.iloc\u001b[1m[\u001b[0m:, i\u001b[1m]\u001b[0m = newvals` will     \u001b[2m               \u001b[0m\n",
       "\u001b[2;36m                    \u001b[0m         attempt to set the values inplace instead of always setting a new      \u001b[2m               \u001b[0m\n",
       "\u001b[2;36m                    \u001b[0m         array. To retain the old behavior, use either `df\u001b[1m[\u001b[0mdf.columns\u001b[1m[\u001b[0mi\u001b[1m]\u001b[0m\u001b[1m]\u001b[0m =     \u001b[2m               \u001b[0m\n",
       "\u001b[2;36m                    \u001b[0m         newvals` or, if columns are non-unique, `\u001b[1;35mdf.isetitem\u001b[0m\u001b[1m(\u001b[0mi, newvals\u001b[1m)\u001b[0m`      \u001b[2m               \u001b[0m\n",
       "\u001b[2;36m                    \u001b[0m           return \u001b[1;35mfunc\u001b[0m\u001b[1m(\u001b[0m*args, **kwargs\u001b[1m)\u001b[0m                                         \u001b[2m               \u001b[0m\n",
       "\u001b[2;36m                    \u001b[0m                                                                                \u001b[2m               \u001b[0m\n"
      ]
     },
     "metadata": {},
     "output_type": "display_data"
    },
    {
     "data": {
      "text/html": [
       "<pre style=\"white-space:pre;overflow-x:auto;line-height:normal;font-family:Menlo,'DejaVu Sans Mono',consolas,'Courier New',monospace\"><span style=\"color: #7fbfbf; text-decoration-color: #7fbfbf\">[11/24/22 14:47:45] </span><span style=\"color: #800000; text-decoration-color: #800000\">WARNING </span> C:\\Users\\Sean\\AppData\\Local\\pypoetry\\Cache\\virtualenvs\\docs-prototype- <a href=\"file://C:\\Users\\Sean\\.pyenv\\pyenv-win\\versions\\3.10.7\\lib\\warnings.py\" target=\"_blank\"><span style=\"color: #7f7f7f; text-decoration-color: #7f7f7f\">warnings.py</span></a><span style=\"color: #7f7f7f; text-decoration-color: #7f7f7f\">:</span><a href=\"file://C:\\Users\\Sean\\.pyenv\\pyenv-win\\versions\\3.10.7\\lib\\warnings.py#109\" target=\"_blank\"><span style=\"color: #7f7f7f; text-decoration-color: #7f7f7f\">109</span></a>\n",
       "<span style=\"color: #7fbfbf; text-decoration-color: #7fbfbf\">                    </span>         hY2I1EcF-py3.<span style=\"color: #008080; text-decoration-color: #008080; font-weight: bold\">10</span>\\lib\\site-packages\\multimethod\\__init__.py:<span style=\"color: #008080; text-decoration-color: #008080; font-weight: bold\">315</span>:         <span style=\"color: #7f7f7f; text-decoration-color: #7f7f7f\">               </span>\n",
       "<span style=\"color: #7fbfbf; text-decoration-color: #7fbfbf\">                    </span>         FutureWarning: The default value of numeric_only in DataFrame.corr is  <span style=\"color: #7f7f7f; text-decoration-color: #7f7f7f\">               </span>\n",
       "<span style=\"color: #7fbfbf; text-decoration-color: #7fbfbf\">                    </span>         deprecated. In a future version, it will default to <span style=\"color: #ff0000; text-decoration-color: #ff0000; font-style: italic\">False</span>. Select only <span style=\"color: #7f7f7f; text-decoration-color: #7f7f7f\">               </span>\n",
       "<span style=\"color: #7fbfbf; text-decoration-color: #7fbfbf\">                    </span>         valid columns or specify the value of numeric_only to silence this     <span style=\"color: #7f7f7f; text-decoration-color: #7f7f7f\">               </span>\n",
       "<span style=\"color: #7fbfbf; text-decoration-color: #7fbfbf\">                    </span>         warning.                                                               <span style=\"color: #7f7f7f; text-decoration-color: #7f7f7f\">               </span>\n",
       "<span style=\"color: #7fbfbf; text-decoration-color: #7fbfbf\">                    </span>           return <span style=\"color: #800080; text-decoration-color: #800080; font-weight: bold\">func</span><span style=\"font-weight: bold\">(</span>*args, **kwargs<span style=\"font-weight: bold\">)</span>                                         <span style=\"color: #7f7f7f; text-decoration-color: #7f7f7f\">               </span>\n",
       "<span style=\"color: #7fbfbf; text-decoration-color: #7fbfbf\">                    </span>                                                                                <span style=\"color: #7f7f7f; text-decoration-color: #7f7f7f\">               </span>\n",
       "</pre>\n"
      ],
      "text/plain": [
       "\u001b[2;36m[11/24/22 14:47:45]\u001b[0m\u001b[2;36m \u001b[0m\u001b[31mWARNING \u001b[0m C:\\Users\\Sean\\AppData\\Local\\pypoetry\\Cache\\virtualenvs\\docs-prototype- \u001b]8;id=880283;file://C:\\Users\\Sean\\.pyenv\\pyenv-win\\versions\\3.10.7\\lib\\warnings.py\u001b\\\u001b[2mwarnings.py\u001b[0m\u001b]8;;\u001b\\\u001b[2m:\u001b[0m\u001b]8;id=902699;file://C:\\Users\\Sean\\.pyenv\\pyenv-win\\versions\\3.10.7\\lib\\warnings.py#109\u001b\\\u001b[2m109\u001b[0m\u001b]8;;\u001b\\\n",
       "\u001b[2;36m                    \u001b[0m         hY2I1EcF-py3.\u001b[1;36m10\u001b[0m\\lib\\site-packages\\multimethod\\__init__.py:\u001b[1;36m315\u001b[0m:         \u001b[2m               \u001b[0m\n",
       "\u001b[2;36m                    \u001b[0m         FutureWarning: The default value of numeric_only in DataFrame.corr is  \u001b[2m               \u001b[0m\n",
       "\u001b[2;36m                    \u001b[0m         deprecated. In a future version, it will default to \u001b[3;91mFalse\u001b[0m. Select only \u001b[2m               \u001b[0m\n",
       "\u001b[2;36m                    \u001b[0m         valid columns or specify the value of numeric_only to silence this     \u001b[2m               \u001b[0m\n",
       "\u001b[2;36m                    \u001b[0m         warning.                                                               \u001b[2m               \u001b[0m\n",
       "\u001b[2;36m                    \u001b[0m           return \u001b[1;35mfunc\u001b[0m\u001b[1m(\u001b[0m*args, **kwargs\u001b[1m)\u001b[0m                                         \u001b[2m               \u001b[0m\n",
       "\u001b[2;36m                    \u001b[0m                                                                                \u001b[2m               \u001b[0m\n"
      ]
     },
     "metadata": {},
     "output_type": "display_data"
    },
    {
     "data": {
      "text/html": [
       "<pre style=\"white-space:pre;overflow-x:auto;line-height:normal;font-family:Menlo,'DejaVu Sans Mono',consolas,'Courier New',monospace\"><span style=\"color: #7fbfbf; text-decoration-color: #7fbfbf\">[11/24/22 14:47:50] </span><span style=\"color: #800000; text-decoration-color: #800000\">WARNING </span> C:\\Users\\Sean\\AppData\\Local\\pypoetry\\Cache\\virtualenvs\\docs-prototype- <a href=\"file://C:\\Users\\Sean\\.pyenv\\pyenv-win\\versions\\3.10.7\\lib\\warnings.py\" target=\"_blank\"><span style=\"color: #7f7f7f; text-decoration-color: #7f7f7f\">warnings.py</span></a><span style=\"color: #7f7f7f; text-decoration-color: #7f7f7f\">:</span><a href=\"file://C:\\Users\\Sean\\.pyenv\\pyenv-win\\versions\\3.10.7\\lib\\warnings.py#109\" target=\"_blank\"><span style=\"color: #7f7f7f; text-decoration-color: #7f7f7f\">109</span></a>\n",
       "<span style=\"color: #7fbfbf; text-decoration-color: #7fbfbf\">                    </span>         hY2I1EcF-py3.<span style=\"color: #008080; text-decoration-color: #008080; font-weight: bold\">10</span>\\lib\\site-packages\\scipy\\stats\\_stats_py.py:<span style=\"color: #008080; text-decoration-color: #008080; font-weight: bold\">5218</span>:       <span style=\"color: #7f7f7f; text-decoration-color: #7f7f7f\">               </span>\n",
       "<span style=\"color: #7fbfbf; text-decoration-color: #7fbfbf\">                    </span>         RuntimeWarning: overflow encountered in longlong_scalars               <span style=\"color: #7f7f7f; text-decoration-color: #7f7f7f\">               </span>\n",
       "<span style=\"color: #7fbfbf; text-decoration-color: #7fbfbf\">                    </span>           <span style=\"font-weight: bold\">(</span><span style=\"color: #008080; text-decoration-color: #008080; font-weight: bold\">2</span> * xtie * ytie<span style=\"font-weight: bold\">)</span> <span style=\"color: #800080; text-decoration-color: #800080\">/</span> m + x0 * y0 <span style=\"color: #800080; text-decoration-color: #800080\">/</span> <span style=\"font-weight: bold\">(</span><span style=\"color: #008080; text-decoration-color: #008080; font-weight: bold\">9</span> * m * <span style=\"font-weight: bold\">(</span>size - <span style=\"color: #008080; text-decoration-color: #008080; font-weight: bold\">2</span><span style=\"font-weight: bold\">)))</span>              <span style=\"color: #7f7f7f; text-decoration-color: #7f7f7f\">               </span>\n",
       "<span style=\"color: #7fbfbf; text-decoration-color: #7fbfbf\">                    </span>                                                                                <span style=\"color: #7f7f7f; text-decoration-color: #7f7f7f\">               </span>\n",
       "</pre>\n"
      ],
      "text/plain": [
       "\u001b[2;36m[11/24/22 14:47:50]\u001b[0m\u001b[2;36m \u001b[0m\u001b[31mWARNING \u001b[0m C:\\Users\\Sean\\AppData\\Local\\pypoetry\\Cache\\virtualenvs\\docs-prototype- \u001b]8;id=693169;file://C:\\Users\\Sean\\.pyenv\\pyenv-win\\versions\\3.10.7\\lib\\warnings.py\u001b\\\u001b[2mwarnings.py\u001b[0m\u001b]8;;\u001b\\\u001b[2m:\u001b[0m\u001b]8;id=294378;file://C:\\Users\\Sean\\.pyenv\\pyenv-win\\versions\\3.10.7\\lib\\warnings.py#109\u001b\\\u001b[2m109\u001b[0m\u001b]8;;\u001b\\\n",
       "\u001b[2;36m                    \u001b[0m         hY2I1EcF-py3.\u001b[1;36m10\u001b[0m\\lib\\site-packages\\scipy\\stats\\_stats_py.py:\u001b[1;36m5218\u001b[0m:       \u001b[2m               \u001b[0m\n",
       "\u001b[2;36m                    \u001b[0m         RuntimeWarning: overflow encountered in longlong_scalars               \u001b[2m               \u001b[0m\n",
       "\u001b[2;36m                    \u001b[0m           \u001b[1m(\u001b[0m\u001b[1;36m2\u001b[0m * xtie * ytie\u001b[1m)\u001b[0m \u001b[35m/\u001b[0m m + x0 * y0 \u001b[35m/\u001b[0m \u001b[1m(\u001b[0m\u001b[1;36m9\u001b[0m * m * \u001b[1m(\u001b[0msize - \u001b[1;36m2\u001b[0m\u001b[1m)\u001b[0m\u001b[1m)\u001b[0m\u001b[1m)\u001b[0m              \u001b[2m               \u001b[0m\n",
       "\u001b[2;36m                    \u001b[0m                                                                                \u001b[2m               \u001b[0m\n"
      ]
     },
     "metadata": {},
     "output_type": "display_data"
    },
    {
     "data": {
      "application/vnd.jupyter.widget-view+json": {
       "model_id": "d29e6f28cf8a4a8bb42f0032f3cd7b49",
       "version_major": 2,
       "version_minor": 0
      },
      "text/plain": [
       "Generate report structure:   0%|          | 0/1 [00:00<?, ?it/s]"
      ]
     },
     "metadata": {},
     "output_type": "display_data"
    },
    {
     "data": {
      "application/vnd.jupyter.widget-view+json": {
       "model_id": "706d56e82bfa48a0a621200d0e5d6d25",
       "version_major": 2,
       "version_minor": 0
      },
      "text/plain": [
       "Render HTML:   0%|          | 0/1 [00:00<?, ?it/s]"
      ]
     },
     "metadata": {},
     "output_type": "display_data"
    },
    {
     "data": {
      "application/vnd.jupyter.widget-view+json": {
       "model_id": "26e591a0b4c24e41946e1aa338d039b8",
       "version_major": 2,
       "version_minor": 0
      },
      "text/plain": [
       "Export report to file:   0%|          | 0/1 [00:00<?, ?it/s]"
      ]
     },
     "metadata": {},
     "output_type": "display_data"
    }
   ],
   "source": [
    "create_profiling_report(\"model_input_table\")"
   ]
  },
  {
   "cell_type": "code",
   "execution_count": null,
   "id": "b7522e00-830a-43bb-bf00-d06d5982df08",
   "metadata": {},
   "outputs": [],
   "source": []
  }
 ],
 "metadata": {
  "kernelspec": {
   "display_name": "Kedro (spaceflights)",
   "language": "python",
   "name": "kedro_spaceflights"
  },
  "language_info": {
   "codemirror_mode": {
    "name": "ipython",
    "version": 3
   },
   "file_extension": ".py",
   "mimetype": "text/x-python",
   "name": "python",
   "nbconvert_exporter": "python",
   "pygments_lexer": "ipython3",
   "version": "3.10.7"
  }
 },
 "nbformat": 4,
 "nbformat_minor": 5
}
